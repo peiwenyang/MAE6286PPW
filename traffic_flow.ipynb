{
 "cells": [
  {
   "cell_type": "code",
   "execution_count": 208,
   "metadata": {
    "collapsed": true
   },
   "outputs": [],
   "source": [
    "import numpy                       \n",
    "from matplotlib import pyplot                 \n",
    "%matplotlib inline\n",
    "from matplotlib import rcParams\n",
    "rcParams['font.family'] = 'serif'\n",
    "rcParams['font.size'] = 16\n"
   ]
  },
  {
   "cell_type": "code",
   "execution_count": 209,
   "metadata": {
    "collapsed": true
   },
   "outputs": [],
   "source": [
    "v_max = 80\n",
    "L = 11\n",
    "rho_max = 250\n",
    "nx = 51\n",
    "dx = L/(nx-1)\n",
    "dt = 0.001\n"
   ]
  },
  {
   "cell_type": "code",
   "execution_count": 210,
   "metadata": {
    "collapsed": false
   },
   "outputs": [],
   "source": [
    "x = numpy.linspace(0,L,nx)\n",
    "rho0 = numpy.ones(nx)*10\n",
    "rho0[10:20] = 50\n"
   ]
  },
  {
   "cell_type": "code",
   "execution_count": 211,
   "metadata": {
    "collapsed": false
   },
   "outputs": [],
   "source": [
    "def find_v(rho, t):\n",
    "    v_max = 80\n",
    "    L = 11\n",
    "    rho_max = 250\n",
    "    nx = 51\n",
    "    dx = L/(nx-1)\n",
    "    dt = 0.001\n",
    "    nt0 = (t/60)/dt\n",
    "    nt = int(nt0) \n",
    "    for n in range(1, nt):\n",
    "        rhon = rho.copy()\n",
    "        rho[1:] = rhon[1:] - ((v_max*dt)/dx)*(rhon[1:] - rhon[1:]**2/rho_max - rhon[0:-1] + rhon[0:-1]**2/rho_max)\n",
    "        rho[0] = 10\n",
    "    return v_max*(1-rho/rho_max)"
   ]
  },
  {
   "cell_type": "markdown",
   "metadata": {},
   "source": [
    "Part 1-Q1"
   ]
  },
  {
   "cell_type": "code",
   "execution_count": 212,
   "metadata": {
    "collapsed": false
   },
   "outputs": [
    {
     "data": {
      "text/plain": [
       "17.777777777777779"
      ]
     },
     "execution_count": 212,
     "metadata": {},
     "output_type": "execute_result"
    }
   ],
   "source": [
    "x = numpy.linspace(0,L,nx)\n",
    "rho0 = numpy.ones(nx)*10\n",
    "rho0[10:20] = 50\n",
    "v1 = find_v(rho0, 0)\n",
    "vmin_1 = v1.min()/3.6\n",
    "vmin_1"
   ]
  },
  {
   "cell_type": "markdown",
   "metadata": {},
   "source": [
    "Part 1-Q2"
   ]
  },
  {
   "cell_type": "code",
   "execution_count": 213,
   "metadata": {
    "collapsed": false
   },
   "outputs": [
    {
     "data": {
      "text/plain": [
       "20.636165902363903"
      ]
     },
     "execution_count": 213,
     "metadata": {},
     "output_type": "execute_result"
    }
   ],
   "source": [
    "x = numpy.linspace(0,L,nx)\n",
    "rho0 = numpy.ones(nx)*10\n",
    "rho0[10:20] = 50\n",
    "v2 = find_v(rho0, 3)\n",
    "v_ave = numpy.mean(v2)/3.6\n",
    "v_ave"
   ]
  },
  {
   "cell_type": "markdown",
   "metadata": {},
   "source": [
    "Part 1-Q3"
   ]
  },
  {
   "cell_type": "code",
   "execution_count": 214,
   "metadata": {
    "collapsed": false
   },
   "outputs": [
    {
     "data": {
      "text/plain": [
       "18.776651614718311"
      ]
     },
     "execution_count": 214,
     "metadata": {},
     "output_type": "execute_result"
    }
   ],
   "source": [
    "x = numpy.linspace(0,L,nx)\n",
    "rho0 = numpy.ones(nx)*10\n",
    "rho0[10:20] = 50\n",
    "v3 = find_v(rho0, 6)\n",
    "vmin_3 = v3.min()/3.6\n",
    "vmin_3"
   ]
  },
  {
   "cell_type": "markdown",
   "metadata": {},
   "source": [
    "PART-2"
   ]
  },
  {
   "cell_type": "code",
   "execution_count": 215,
   "metadata": {
    "collapsed": true
   },
   "outputs": [],
   "source": [
    "v_max = 136\n",
    "L = 11\n",
    "rho_max = 250\n",
    "nx = 51\n",
    "dx = L/(nx-1)\n",
    "dt = 0.001"
   ]
  },
  {
   "cell_type": "code",
   "execution_count": 216,
   "metadata": {
    "collapsed": true
   },
   "outputs": [],
   "source": [
    "def find_v2(rho, t):\n",
    "    v_max = 136\n",
    "    L = 11\n",
    "    rho_max = 250\n",
    "    nx = 51\n",
    "    dx = L/(nx-1)\n",
    "    dt = 0.001\n",
    "    nt0 = (t/60)/dt\n",
    "    nt = int(nt0) \n",
    "    for n in range(1, nt):\n",
    "        rhon = rho.copy()\n",
    "        rho[1:] = rhon[1:] - ((v_max*dt)/dx)*(rhon[1:] - rhon[1:]**2/rho_max - rhon[0:-1] + rhon[0:-1]**2/rho_max)\n",
    "        rho[0] = 10\n",
    "    return v_max*(1-rho/rho_max)"
   ]
  },
  {
   "cell_type": "markdown",
   "metadata": {},
   "source": [
    "Part 2-Q1"
   ]
  },
  {
   "cell_type": "code",
   "execution_count": 217,
   "metadata": {
    "collapsed": false
   },
   "outputs": [
    {
     "data": {
      "text/plain": [
       "30.222222222222225"
      ]
     },
     "execution_count": 217,
     "metadata": {},
     "output_type": "execute_result"
    }
   ],
   "source": [
    "x = numpy.linspace(0,L,nx)\n",
    "rho0 = numpy.ones(nx)*20 \n",
    "rho0[10:20] = 50\n",
    "v11 = find_v2(rho0, 0)\n",
    "vmin_11 = v11.min()/3.6\n",
    "vmin_11"
   ]
  },
  {
   "cell_type": "markdown",
   "metadata": {},
   "source": [
    "Part 2-Q2"
   ]
  },
  {
   "cell_type": "code",
   "execution_count": 221,
   "metadata": {
    "collapsed": false
   },
   "outputs": [
    {
     "data": {
      "text/plain": [
       "34.673805625303551"
      ]
     },
     "execution_count": 221,
     "metadata": {},
     "output_type": "execute_result"
    }
   ],
   "source": [
    "x = numpy.linspace(0,L,nx)\n",
    "rho0 = numpy.ones(nx)*20 \n",
    "rho0[10:20] = 50\n",
    "v22 = find_v2(rho0, 3)\n",
    "v_ave2 = numpy.mean(v22)/3.6\n",
    "v_ave2"
   ]
  },
  {
   "cell_type": "markdown",
   "metadata": {},
   "source": [
    "Part 2-Q2"
   ]
  },
  {
   "cell_type": "code",
   "execution_count": 219,
   "metadata": {
    "collapsed": false
   },
   "outputs": [
    {
     "data": {
      "text/plain": [
       "30.947061440006067"
      ]
     },
     "execution_count": 219,
     "metadata": {},
     "output_type": "execute_result"
    }
   ],
   "source": [
    "x = numpy.linspace(0,L,nx)\n",
    "rho0 = numpy.ones(nx)*20 \n",
    "rho0[10:20] = 50\n",
    "v33 = find_v2(rho0, 3)\n",
    "vmin_33 = v33.min()/3.6\n",
    "vmin_33"
   ]
  },
  {
   "cell_type": "code",
   "execution_count": null,
   "metadata": {
    "collapsed": true
   },
   "outputs": [],
   "source": []
  },
  {
   "cell_type": "code",
   "execution_count": null,
   "metadata": {
    "collapsed": true
   },
   "outputs": [],
   "source": []
  }
 ],
 "metadata": {
  "anaconda-cloud": {},
  "kernelspec": {
   "display_name": "Python [default]",
   "language": "python",
   "name": "python3"
  },
  "language_info": {
   "codemirror_mode": {
    "name": "ipython",
    "version": 3
   },
   "file_extension": ".py",
   "mimetype": "text/x-python",
   "name": "python",
   "nbconvert_exporter": "python",
   "pygments_lexer": "ipython3",
   "version": "3.5.2"
  }
 },
 "nbformat": 4,
 "nbformat_minor": 1
}
