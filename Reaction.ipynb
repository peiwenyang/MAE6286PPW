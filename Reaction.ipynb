{
 "cells": [
  {
   "cell_type": "code",
   "execution_count": 56,
   "metadata": {
    "collapsed": true
   },
   "outputs": [],
   "source": [
    "import numpy\n",
    "from matplotlib import pyplot\n",
    "%matplotlib inline"
   ]
  },
  {
   "cell_type": "code",
   "execution_count": 57,
   "metadata": {
    "collapsed": false
   },
   "outputs": [],
   "source": [
    "n = 192\n",
    "Du, Dv, F, k = 0.00016, 0.00008, 0.035, 0.065 \n",
    "dh = 5.0/(n-1)\n",
    "T = 8000\n",
    "dt = 0.9 * dh**2 / (4*max(Du,Dv))\n",
    "nt = int(T/dt)"
   ]
  },
  {
   "cell_type": "code",
   "execution_count": 58,
   "metadata": {
    "collapsed": false
   },
   "outputs": [],
   "source": [
    "import numpy\n",
    "uvinitial = numpy.load('./uvinitial.npz')\n",
    "U = uvinitial['U']\n",
    "V = uvinitial['V']"
   ]
  },
  {
   "cell_type": "code",
   "execution_count": 59,
   "metadata": {
    "collapsed": false
   },
   "outputs": [],
   "source": [
    "sigma = (dt*Du)/dh**2\n",
    "rho = (dt*Dv)/dh**2"
   ]
  },
  {
   "cell_type": "code",
   "execution_count": 60,
   "metadata": {
    "collapsed": false
   },
   "outputs": [
    {
     "data": {
      "text/plain": [
       "array([ 0.92469521,  0.85013834,  0.66815621,  0.90196481,  0.9039502 ])"
      ]
     },
     "execution_count": 60,
     "metadata": {},
     "output_type": "execute_result"
    }
   ],
   "source": [
    "for n in range(nt):\n",
    "    un = U.copy()\n",
    "    vn = V.copy()\n",
    "    U[1:-1,1:-1] = un[1:-1,1:-1]+sigma*(un[1:-1,2:]+un[1:-1,:-2]+un[2:,1:-1]+un[:-2,1:-1]-4*un[1:-1,1:-1])+\\\n",
    "    dt*F*(1-un[1:-1,1:-1])-dt*(un[1:-1,1:-1]*vn[1:-1,1:-1]**2)\n",
    "    V[1:-1,1:-1] = vn[1:-1,1:-1]+rho*(vn[1:-1,2:]+vn[1:-1,:-2]+vn[2:,1:-1]+vn[:-2,1:-1]-4*vn[1:-1,1:-1])-\\\n",
    "    dt*(F+k)*vn[1:-1,1:-1]+dt*(un[1:-1,1:-1]*vn[1:-1,1:-1]**2)\n",
    "        \n",
    "    U[0,:] = U[1,:]\n",
    "    U[:,0] = U[:,1]\n",
    "    U[-1,:] = U[-2,:]\n",
    "    U[:,-1] = U[:,-2]\n",
    "        \n",
    "    V[0,:] = V[1,:]\n",
    "    V[:,0] = V[:,1]\n",
    "    V[-1,:] = V[-2,:]\n",
    "    V[:,-1] = V[:,-2]\n",
    "\n",
    "U[100,::40]"
   ]
  },
  {
   "cell_type": "code",
   "execution_count": null,
   "metadata": {
    "collapsed": false
   },
   "outputs": [],
   "source": []
  },
  {
   "cell_type": "code",
   "execution_count": null,
   "metadata": {
    "collapsed": true
   },
   "outputs": [],
   "source": []
  }
 ],
 "metadata": {
  "anaconda-cloud": {},
  "kernelspec": {
   "display_name": "Python [default]",
   "language": "python",
   "name": "python3"
  },
  "language_info": {
   "codemirror_mode": {
    "name": "ipython",
    "version": 3
   },
   "file_extension": ".py",
   "mimetype": "text/x-python",
   "name": "python",
   "nbconvert_exporter": "python",
   "pygments_lexer": "ipython3",
   "version": "3.5.2"
  }
 },
 "nbformat": 4,
 "nbformat_minor": 1
}
