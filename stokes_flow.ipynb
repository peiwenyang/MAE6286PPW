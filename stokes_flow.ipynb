{
 "cells": [
  {
   "cell_type": "code",
   "execution_count": 1,
   "metadata": {
    "collapsed": true
   },
   "outputs": [],
   "source": [
    "from matplotlib import pyplot\n",
    "import numpy\n",
    "%matplotlib inline\n",
    "from matplotlib import rcParams\n",
    "rcParams['font.family'] = 'serif'\n",
    "rcParams['font.size'] = 16"
   ]
  },
  {
   "cell_type": "code",
   "execution_count": 3,
   "metadata": {
    "collapsed": true
   },
   "outputs": [],
   "source": [
    "def L1norm(new, old):\n",
    "    norm = numpy.sum(numpy.abs(new-old))\n",
    "    return norm"
   ]
  },
  {
   "cell_type": "code",
   "execution_count": 4,
   "metadata": {
    "collapsed": true
   },
   "outputs": [],
   "source": [
    "nx = 41\n",
    "ny = 41\n",
    "\n",
    "l = 1.\n",
    "h = 1.\n",
    "\n",
    "dx = l/(nx-1)\n",
    "dy = h/(ny-1)\n",
    "\n",
    "l1_target = 1e-6"
   ]
  },
  {
   "cell_type": "code",
   "execution_count": null,
   "metadata": {
    "collapsed": true
   },
   "outputs": [],
   "source": [
    "def stokes_2d(psi, omega,dx, dy, 11_target):\n",
    "    \n",
    "    11_norm = 1\n",
    "    \n",
    "    while 11_norm > 11_target:\n",
    "        \n",
    "        psi_star = psi.copy()\n",
    "        omega_star = omega.copy()\n",
    "        \n",
    "        psi[1:-1,1:-1] = 1/(2*(dx**2 + dy**2)) * \\\n",
    "                        ((psi_star[1:-1,2:]+psi_star[1:-1,:-2])*dy**2 +\\\n",
    "                        (psi_star[2:,1:-1] + psi_star[:-2,1:-1])*dx**2 -\\\n",
    "                         omega_star[1:-1,1:-1]*dx**2*dy**2)\n",
    "        \n",
    "        psi[-1,1:-1] = (6*dy - 3*psi_star[2:-1,:] + 6*psi_star[1:-2,:] - psi_star[:-3,:])/2\n",
    "        \n",
    "        omega[1:-1,1:-1] = .25 * (omega_star[1:-1,2:] + omega_star[1:-1, :-2] \\\n",
    "                              + omega_star[2:, 1:-1] + omega_star[:-2, 1:-1])\n",
    "        \n",
    "        omega[1:-1,1,-1] = (-1/(2*dy**2))*(8*psi[1:-2,])\n",
    "        "
   ]
  }
 ],
 "metadata": {
  "anaconda-cloud": {},
  "kernelspec": {
   "display_name": "Python [default]",
   "language": "python",
   "name": "python3"
  },
  "language_info": {
   "codemirror_mode": {
    "name": "ipython",
    "version": 3
   },
   "file_extension": ".py",
   "mimetype": "text/x-python",
   "name": "python",
   "nbconvert_exporter": "python",
   "pygments_lexer": "ipython3",
   "version": "3.5.2"
  }
 },
 "nbformat": 4,
 "nbformat_minor": 1
}
