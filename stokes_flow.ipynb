{
 "cells": [
  {
   "cell_type": "code",
   "execution_count": 22,
   "metadata": {
    "collapsed": true
   },
   "outputs": [],
   "source": [
    "from matplotlib import pyplot\n",
    "import numpy\n",
    "%matplotlib inline\n",
    "from matplotlib import rcParams\n",
    "rcParams['font.family'] = 'serif'\n",
    "rcParams['font.size'] = 16"
   ]
  },
  {
   "cell_type": "code",
   "execution_count": 23,
   "metadata": {
    "collapsed": true
   },
   "outputs": [],
   "source": [
    "def L1norm(new, old):\n",
    "    norm = numpy.sum(numpy.abs(new-old))\n",
    "    return norm"
   ]
  },
  {
   "cell_type": "code",
   "execution_count": 24,
   "metadata": {
    "collapsed": false
   },
   "outputs": [],
   "source": [
    "def stokes_2d(psi, omega,dx, dy, l1_target):\n",
    "    \n",
    "    l1norm = 1\n",
    "    \n",
    "    while l1norm > l1_target:\n",
    "        \n",
    "        psi_star = psi.copy()\n",
    "        omega_star = omega.copy()\n",
    "        \n",
    "        psi[1:-1,1:-1] = 1/(2*(dx**2 + dy**2)) * \\\n",
    "                        ((psi_star[1:-1,2:]+psi_star[1:-1,:-2])*dy**2 +\\\n",
    "                        (psi_star[2:,1:-1] + psi_star[:-2,1:-1])*dx**2 -\\\n",
    "                         omega_star[1:-1,1:-1]*dx**2*dy**2)\n",
    "        \n",
    "        psi[-1,1:-1] = psi[-2,1:-1]*dy\n",
    "        \n",
    "        omega[1:-1,1:-1] = 0.25 * (omega_star[1:-1,2:] + omega_star[1:-1, :-2] \\\n",
    "                              + omega_star[2:, 1:-1] + omega_star[:-2, 1:-1])\n",
    "        \n",
    "        omega[-1,1:-1] = (-1/(2*dy**2))*(8*psi_star[-2,1:-1] - psi_star[-3,1:-1]) - (3/dy)\n",
    "        \n",
    "        l1norm = L1norm(omega, omega_star)\n",
    "        return psi, omega"
   ]
  },
  {
   "cell_type": "code",
   "execution_count": 25,
   "metadata": {
    "collapsed": true
   },
   "outputs": [],
   "source": [
    "nx = 41\n",
    "ny = 41\n",
    "\n",
    "l = 1.\n",
    "h = 1.\n",
    "\n",
    "dx = l/(nx-1)\n",
    "dy = h/(ny-1)\n",
    "\n",
    "psi = numpy.zeros((ny,nx))\n",
    "omega = numpy.zeros((ny,nx))\n",
    "\n",
    "x = numpy.linspace(0,1,nx)\n",
    "y = numpy.linspace(0,1,ny)\n",
    "l1_target = 1e-6"
   ]
  },
  {
   "cell_type": "code",
   "execution_count": 26,
   "metadata": {
    "collapsed": false
   },
   "outputs": [],
   "source": [
    "psi, omega = stokes_2d(psi, omega,dx, dy, l1_target)"
   ]
  },
  {
   "cell_type": "code",
   "execution_count": 31,
   "metadata": {
    "collapsed": false
   },
   "outputs": [
    {
     "data": {
      "text/plain": [
       "array([[   0.,    0.,    0., ...,    0.,    0.,    0.],\n",
       "       [   0.,    0.,    0., ...,    0.,    0.,    0.],\n",
       "       [   0.,    0.,    0., ...,    0.,    0.,    0.],\n",
       "       ..., \n",
       "       [   0.,    0.,    0., ...,    0.,    0.,    0.],\n",
       "       [   0.,    0.,    0., ...,    0.,    0.,    0.],\n",
       "       [   0., -120., -120., ..., -120., -120.,    0.]])"
      ]
     },
     "execution_count": 31,
     "metadata": {},
     "output_type": "execute_result"
    }
   ],
   "source": [
    "omega"
   ]
  },
  {
   "cell_type": "code",
   "execution_count": null,
   "metadata": {
    "collapsed": true
   },
   "outputs": [],
   "source": []
  }
 ],
 "metadata": {
  "anaconda-cloud": {},
  "kernelspec": {
   "display_name": "Python [default]",
   "language": "python",
   "name": "python3"
  },
  "language_info": {
   "codemirror_mode": {
    "name": "ipython",
    "version": 3
   },
   "file_extension": ".py",
   "mimetype": "text/x-python",
   "name": "python",
   "nbconvert_exporter": "python",
   "pygments_lexer": "ipython3",
   "version": "3.5.2"
  }
 },
 "nbformat": 4,
 "nbformat_minor": 1
}
