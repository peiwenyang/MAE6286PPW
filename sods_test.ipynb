{
 "cells": [
  {
   "cell_type": "code",
   "execution_count": 92,
   "metadata": {
    "collapsed": true
   },
   "outputs": [],
   "source": [
    "%matplotlib inline\n",
    "import numpy \n",
    "from matplotlib import pyplot\n",
    "from matplotlib import rcParams\n",
    "rcParams['font.family'] = 'serif'\n",
    "rcParams['font.size'] = 16"
   ]
  },
  {
   "cell_type": "code",
   "execution_count": 93,
   "metadata": {
    "collapsed": false
   },
   "outputs": [],
   "source": [
    "def compute_f(u):\n",
    "    f = numpy.zeros_like(u)\n",
    "    u1 = u[0,]\n",
    "    u2 = u[1,]\n",
    "    u3 = u[2,]\n",
    "\n",
    "    f[0,] = u2\n",
    "    f[1,] = u2**2/u1 + (gamma-1)*(u3 - 0.5*(u2**2/u1))\n",
    "    f[2,] = (u3+(gamma-1)*(u3-0.5*(u2**2/u1)))*u2/u1\n",
    "    return f"
   ]
  },
  {
   "cell_type": "code",
   "execution_count": 94,
   "metadata": {
    "collapsed": true
   },
   "outputs": [],
   "source": [
    "def compute_et(p,rho,u):\n",
    "    et = (p/((gamma-1)*rho)) + 0.5*u**2\n",
    "    return et"
   ]
  },
  {
   "cell_type": "code",
   "execution_count": 95,
   "metadata": {
    "collapsed": false
   },
   "outputs": [],
   "source": [
    "nx = 81\n",
    "dx = 0.25\n",
    "dt = 0.0002\n",
    "t = 0.01\n",
    "nt = int(t/dt)+1\n",
    "gamma = 1.4\n",
    "\n",
    "x = numpy.linspace(-10,10,nx)\n"
   ]
  },
  {
   "cell_type": "code",
   "execution_count": 96,
   "metadata": {
    "collapsed": false
   },
   "outputs": [],
   "source": [
    "rho0 = numpy.ones_like(x)\n",
    "u0 = numpy.zeros_like(x)\n",
    "p0 = numpy.empty_like(x)\n",
    "\n",
    "rho0[int((nx-1)/2):] = 0.125\n",
    "p0[:] = 100000\n",
    "p0[int((nx-1)/2):] = 10000"
   ]
  },
  {
   "cell_type": "code",
   "execution_count": 97,
   "metadata": {
    "collapsed": false
   },
   "outputs": [],
   "source": [
    "eT = compute_et(p0,rho0,u0)"
   ]
  },
  {
   "cell_type": "code",
   "execution_count": 98,
   "metadata": {
    "collapsed": false
   },
   "outputs": [],
   "source": [
    "u = numpy.zeros((3,nx))\n",
    "u[0,] = rho0\n",
    "u[1,] = rho0*u0\n",
    "u[2,] = rho0*eT\n"
   ]
  },
  {
   "cell_type": "code",
   "execution_count": 100,
   "metadata": {
    "collapsed": false
   },
   "outputs": [],
   "source": [
    "un = numpy.zeros_like(u)\n",
    "u_star = numpy.zeros_like(u)\n",
    "flux = numpy.zeros_like(u)\n",
    "flux_star = numpy.zeros_like(u)\n",
    "    \n",
    "for n in range (1,nt):\n",
    "    un = u.copy()\n",
    "    flux = compute_f(u)\n",
    "    u_star[:,:-1] = 0.5*(un[:,1:] + un[:,:-1]) - dt/(2*dx) *(flux[:,1:]-flux[:,:-1])\n",
    "    u_star[:,-1] = u[:,-1]\n",
    "    flux_star = compute_f(u_star)\n",
    "    u[:,1:-1] = un[:,1:-1] - dt/dx * (flux_star[:,1:-1] - flux_star[:,:-2])"
   ]
  },
  {
   "cell_type": "markdown",
   "metadata": {},
   "source": [
    "Density"
   ]
  },
  {
   "cell_type": "code",
   "execution_count": 102,
   "metadata": {
    "collapsed": false
   },
   "outputs": [
    {
     "data": {
      "text/plain": [
       "0.37469140264760109"
      ]
     },
     "execution_count": 102,
     "metadata": {},
     "output_type": "execute_result"
    }
   ],
   "source": [
    "rho_f = u[0,int((10+2.5)/dx)]\n",
    "rho_f"
   ]
  },
  {
   "cell_type": "markdown",
   "metadata": {},
   "source": [
    "Velocity"
   ]
  },
  {
   "cell_type": "code",
   "execution_count": 103,
   "metadata": {
    "collapsed": false
   },
   "outputs": [
    {
     "data": {
      "text/plain": [
       "292.61147152682679"
      ]
     },
     "execution_count": 103,
     "metadata": {},
     "output_type": "execute_result"
    }
   ],
   "source": [
    "v_f = u[1,int((10+2.5)/dx)]/u[0,int((10+2.5)/dx)]\n",
    "v_f"
   ]
  },
  {
   "cell_type": "markdown",
   "metadata": {},
   "source": [
    "Pressure"
   ]
  },
  {
   "cell_type": "code",
   "execution_count": 106,
   "metadata": {
    "collapsed": false
   },
   "outputs": [
    {
     "data": {
      "text/plain": [
       "30250.890167572015"
      ]
     },
     "execution_count": 106,
     "metadata": {},
     "output_type": "execute_result"
    }
   ],
   "source": [
    "a1 = u[0,int((10+2.5)/dx)]\n",
    "a2 = u[1,int((10+2.5)/dx)]\n",
    "a3 = u[2,int((10+2.5)/dx)]\n",
    "\n",
    "pressure = (gamma-1)*(a3-0.5*((a2**2)/a1))\n",
    "pressure\n",
    "                      "
   ]
  },
  {
   "cell_type": "code",
   "execution_count": null,
   "metadata": {
    "collapsed": true
   },
   "outputs": [],
   "source": []
  }
 ],
 "metadata": {
  "anaconda-cloud": {},
  "kernelspec": {
   "display_name": "Python [default]",
   "language": "python",
   "name": "python3"
  },
  "language_info": {
   "codemirror_mode": {
    "name": "ipython",
    "version": 3
   },
   "file_extension": ".py",
   "mimetype": "text/x-python",
   "name": "python",
   "nbconvert_exporter": "python",
   "pygments_lexer": "ipython3",
   "version": "3.5.2"
  }
 },
 "nbformat": 4,
 "nbformat_minor": 1
}
