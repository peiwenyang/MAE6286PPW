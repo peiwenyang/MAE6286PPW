{
 "cells": [
  {
   "cell_type": "code",
   "execution_count": 1,
   "metadata": {
    "collapsed": true
   },
   "outputs": [],
   "source": [
    "import numpy\n",
    "from matplotlib import pyplot\n",
    "import matplotlib.cm as cm\n",
    "%matplotlib inline"
   ]
  },
  {
   "cell_type": "code",
   "execution_count": 2,
   "metadata": {
    "collapsed": true
   },
   "outputs": [],
   "source": [
    "import numpy\n",
    "from scipy.linalg import solve"
   ]
  },
  {
   "cell_type": "code",
   "execution_count": 3,
   "metadata": {
    "collapsed": true
   },
   "outputs": [],
   "source": [
    "def constructMatrix(nx, ny, sigma,F):\n",
    "    A = numpy.zeros(((nx-2)*(ny-2),(nx-2)*(ny-2)))\n",
    "    \n",
    "    row_number = 0\n",
    "    for j in range(1,ny-1):\n",
    "        for i in range(1,nx-1):\n",
    "            if i==1 and j==1:\n",
    "                \n",
    "                A[row_number,row_number] = (1/sigma)*(1+F)+2 \n",
    "                A[row_number,row_number+1] = -1      \n",
    "                A[row_number,row_number+nx-2] = -1   \n",
    "                \n",
    "            elif i==nx-2 and j==1:\n",
    "                \n",
    "                A[row_number,row_number] = (1/sigma)*(1+F)+2 \n",
    "                A[row_number,row_number-1] = -1      \n",
    "                A[row_number,row_number+nx-2] = -1 \n",
    "                \n",
    "            elif i==1 and j==ny-2:\n",
    "                \n",
    "                A[row_number,row_number] = (1/sigma)*(1+F)+2   \n",
    "                A[row_number,row_number+1] = -1        \n",
    "                A[row_number,row_number-(nx-2)] = -1\n",
    "                \n",
    "            elif i==nx-2 and j==ny-2:\n",
    "                \n",
    "                A[row_number,row_number] = (1/sigma)*(1+F)+2   \n",
    "                A[row_number,row_number-1] = -1        \n",
    "                A[row_number,row_number-(nx-2)] = -1\n",
    "                \n",
    "            elif i==1:\n",
    "                \n",
    "                A[row_number,row_number] = (1/sigma)*(1+F)+3 \n",
    "                A[row_number,row_number+1] = -1      \n",
    "                A[row_number,row_number+nx-2] = -1   \n",
    "                A[row_number,row_number-(nx-2)] = -1 \n",
    "                \n",
    "            elif i==nx-2: \n",
    "                \n",
    "                A[row_number,row_number] = (1/sigma)*(1+F)+3 \n",
    "                A[row_number,row_number-1] = -1      \n",
    "                A[row_number,row_number+nx-2] = -1   \n",
    "                A[row_number,row_number-(nx-2)] = -1 \n",
    "            \n",
    "            elif j==1: \n",
    "                \n",
    "                A[row_number,row_number] = (1/sigma)*(1+F)+3  \n",
    "                A[row_number,row_number+1] = -1      \n",
    "                A[row_number,row_number-1] = -1      \n",
    "                A[row_number,row_number+nx-2] = -1\n",
    "                \n",
    "            elif j==ny-2: \n",
    "                A[row_number,row_number] = (1/sigma)*(1+F)+3\n",
    "                A[row_number,row_number+1] = -1      \n",
    "                A[row_number,row_number-1] = -1      \n",
    "                A[row_number,row_number-(nx-2)] = -1 \n",
    "                \n",
    "            else:\n",
    "                A[row_number,row_number] = (1/sigma)*(1+F)+4 \n",
    "                A[row_number,row_number+1] = -1      \n",
    "                A[row_number,row_number-1] = -1      \n",
    "                A[row_number,row_number+nx-2] = -1   \n",
    "                A[row_number,row_number-(nx-2)] = -1 \n",
    "                \n",
    "            row_number += 1\n",
    "            \n",
    "    return A\n",
    "                \n",
    "    "
   ]
  },
  {
   "cell_type": "code",
   "execution_count": 4,
   "metadata": {
    "collapsed": true
   },
   "outputs": [],
   "source": [
    "def generateRHS(nx, ny, sigma, U, u0, v0, F):\n",
    "    \n",
    "    RHS = numpy.ones((nx-2)*(ny-2))\n",
    "    \n",
    "    row_number = 0\n",
    "    \n",
    "    for j in range(1,ny-1):\n",
    "        for i in range(1,nx-1):\n",
    "          \n",
    "            RHS[row_number] = (U[j,i]-(u0[j,i]*v0[j,i]**2)+F)*(1/sigma) \n",
    "                \n",
    "            row_number += 1 \n",
    "    \n",
    "    return RHS"
   ]
  },
  {
   "cell_type": "code",
   "execution_count": 5,
   "metadata": {
    "collapsed": true
   },
   "outputs": [],
   "source": [
    "def map_1Dto2D(nx, ny, T_1D):\n",
    "    U = numpy.zeros((ny,nx))\n",
    "    \n",
    "    row_number = 0\n",
    "    for j in range(1,ny-1):\n",
    "        for i in range(1,nx-1):\n",
    "            U[j,i] = U_1D[row_number]\n",
    "            row_number += 1\n",
    "    \n",
    "    U[0,:] = U[1,:]\n",
    "    U[:,0] = U[:,1]\n",
    "    U[-1,:] = U[-2,:]\n",
    "    U[:,-1] = U[:,-2]\n",
    "    \n",
    "    return U    "
   ]
  },
  {
   "cell_type": "code",
   "execution_count": 7,
   "metadata": {
    "collapsed": false
   },
   "outputs": [],
   "source": [
    "L = 5\n",
    "H = 5\n",
    "\n",
    "nx = 192\n",
    "ny = 192\n",
    "\n",
    "dx = L/(nx-1)\n",
    "dy = H/(ny-1)\n",
    "\n",
    "Du, Dv, F, k = 0.00016, 0.00008, 0.035, 0.065 \n",
    "\n",
    "T = 8000\n",
    "dt = (9 * dx**2) / (40*max(Du,Dv))\n",
    "nt = int(T/dt)\n",
    "\n"
   ]
  },
  {
   "cell_type": "code",
   "execution_count": 8,
   "metadata": {
    "collapsed": false
   },
   "outputs": [],
   "source": [
    "uvinitial = numpy.load('./uvinitial.npz')\n",
    "U = uvinitial['U']\n",
    "V = uvinitial['V']"
   ]
  },
  {
   "cell_type": "code",
   "execution_count": 9,
   "metadata": {
    "collapsed": false
   },
   "outputs": [],
   "source": [
    "u0 = U\n",
    "v0 = V"
   ]
  },
  {
   "cell_type": "code",
   "execution_count": 10,
   "metadata": {
    "collapsed": false
   },
   "outputs": [],
   "source": [
    "sigma = 0.25\n",
    "A = constructMatrix(nx, ny, sigma,F)"
   ]
  },
  {
   "cell_type": "code",
   "execution_count": null,
   "metadata": {
    "collapsed": true
   },
   "outputs": [],
   "source": [
    "for t in range(nt):\n",
    "        Un = U.copy()\n",
    "        b = generateRHS(nx, ny, sigma, Un, u0, v0, F)\n",
    "        \n",
    "        U_interior = solve(A,b)\n",
    "        U = map_1Dto2D(nx, ny, U_interior)"
   ]
  },
  {
   "cell_type": "code",
   "execution_count": null,
   "metadata": {
    "collapsed": true
   },
   "outputs": [],
   "source": [
    "U"
   ]
  },
  {
   "cell_type": "code",
   "execution_count": null,
   "metadata": {
    "collapsed": true
   },
   "outputs": [],
   "source": []
  }
 ],
 "metadata": {
  "anaconda-cloud": {},
  "kernelspec": {
   "display_name": "Python [default]",
   "language": "python",
   "name": "python3"
  },
  "language_info": {
   "codemirror_mode": {
    "name": "ipython",
    "version": 3
   },
   "file_extension": ".py",
   "mimetype": "text/x-python",
   "name": "python",
   "nbconvert_exporter": "python",
   "pygments_lexer": "ipython3",
   "version": "3.5.2"
  }
 },
 "nbformat": 4,
 "nbformat_minor": 1
}
